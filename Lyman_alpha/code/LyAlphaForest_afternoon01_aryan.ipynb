{
 "cells": [
  {
   "cell_type": "markdown",
   "metadata": {},
   "source": [
    "Version 2025.1"
   ]
  },
  {
   "cell_type": "markdown",
   "metadata": {},
   "source": [
    "# Ly $\\alpha$ forest: $1^{st}$ afternoon\n",
    "\n",
    "Explore today: The ionization state of the Universe with the Gunn-Peterson effect and the redshift estimate for Reionization!\n",
    "![title](STScI-01EVSWR7N682201JJJM5G1B02X.png)\n",
    "![title](STScI-01H26ENJ480C41RN25SBEXDF4E.png)\n",
    "\n",
    "Credits: \n",
    "\n",
    "https://webbtelescope.org/contents/media/images/4352-Image?Type=Infographics&amp;page=5\n",
    "\n",
    "https://webbtelescope.org/contents/media/images/2023/122/01H26EMQ8Z672PQR4435V59Y2V?news=true"
   ]
  },
  {
   "cell_type": "markdown",
   "metadata": {},
   "source": [
    "## Task -1"
   ]
  },
  {
   "cell_type": "markdown",
   "metadata": {},
   "source": [
    "<div class=\"alert alert-block alert-info\">\n",
    "<b>Blue-Box-Task:</b> Describe shortly the history of the universe regarding the neutral gas and reionization.\n",
    "</div>"
   ]
  },
  {
   "cell_type": "code",
   "execution_count": 21,
   "metadata": {},
   "outputs": [],
   "source": [
    "# Describe here\n",
    "# The very early universe, is hot and ionised and just exists as a pool of electrons and protons/neutrons. As the universe\n",
    "# expands and cools, new nuclei form and as the universe cools further, the photons coupled with the matter can decouple and finally H / He atoms\n",
    "# form. This marks the recombination phase where matter forms atoms. After this, the universe exists in a neutral phase until the first stars\n",
    "# and galaxies start to form. This marks the beginning of the reionisation phase. The galaxies evolve to form more complex structure, leading to the\n",
    "# universe that we know of today."
   ]
  },
  {
   "cell_type": "markdown",
   "metadata": {},
   "source": [
    "### Constants and units\n",
    "* Remember to use (consistently) cgs units and to write down all the values that you use (this is important when it comes to the $H_0$ value)\n",
    "* Caution: Some predefined functions assume Python lists, you may want to modify it to be compatible with a Numpy array\n"
   ]
  },
  {
   "cell_type": "code",
   "execution_count": 22,
   "metadata": {
    "collapsed": false,
    "jupyter": {
     "outputs_hidden": false
    }
   },
   "outputs": [
    {
     "data": {
      "text/plain": [
       "2.1927112672380573e-18"
      ]
     },
     "execution_count": 22,
     "metadata": {},
     "output_type": "execute_result"
    }
   ],
   "source": [
    "# Physical Constants (without errors)\n",
    "Mpc = 3.0856775814913673e24  # cm\n",
    "km = 1.0e5 # cm\n",
    "c = 2.99792458e10   # cm/s speed of light\n",
    "\n",
    "G = 6.67430e-8 # cm3 g-1 s-2\n",
    "mp = 1.67262192369e-24 # g\n",
    "\n",
    "\n",
    "# Parameters (without errors)\n",
    "H00 = 67.66 #±0.42 # km/s/Mpc  2018 Planck mission - used for equation 14\n",
    "H0 = H00 * km /Mpc; #  cm/s\n",
    "ΩHII = 0.00625 * (H00 / 100) **(-2)\n",
    "\n",
    "# note: here we use unicode for lambda, alpha and beta\n",
    "λ_Lyα = 1215.67      # Å\n",
    "λ_Lyβ = 1025.72      # Å \n",
    "λ_Lylimit = 912.0 # Å\n",
    "\n",
    "σ0 = 4.5e-18     # cm^2 effective cross section for Lyα\n",
    "α_rec = 4e-13   # cm^3 s^-1 recombination coefficient for hydrogen  \n",
    "σ_ion = 6e-18   # cm^2 cross section for photionization\n",
    "\n",
    "ΩHII = 0.013652620879431499 #s^-1\n",
    "H0"
   ]
  },
  {
   "cell_type": "code",
   "execution_count": 23,
   "metadata": {
    "tags": []
   },
   "outputs": [],
   "source": [
    "#import what you need here. Some stuff you'll likely need are:\n",
    "import numpy as np\n",
    "import matplotlib.pyplot as plt\n",
    "from scipy.optimize import curve_fit"
   ]
  },
  {
   "cell_type": "markdown",
   "metadata": {},
   "source": [
    "## Task 0\n",
    "<div class=\"alert alert-block alert-info\">\n",
    "<b>Blue-Box-Task:</b> Determine in which range of redshift the the Lyα lies in the visible range.\n",
    "</div>"
   ]
  },
  {
   "cell_type": "code",
   "execution_count": 24,
   "metadata": {
    "tags": []
   },
   "outputs": [
    {
     "data": {
      "text/plain": [
       "(2.2894736842105265, 4.756578947368421)"
      ]
     },
     "execution_count": 24,
     "metadata": {},
     "output_type": "execute_result"
    }
   ],
   "source": [
    "#solution to task 0\n",
    "\n",
    "a=400/121.6-1\n",
    "b=700/121.6-1\n",
    "a,b\n",
    "\n",
    "# 2.289 < z < 4.756"
   ]
  },
  {
   "cell_type": "markdown",
   "metadata": {},
   "source": [
    "## Task 1 \n",
    "Determine the redshift of the quasar in figure 4 (manual) and where the Ly $\\beta$ and Lymann limit should be.\n",
    "* Use WebPlotDigitizer: https://apps.automeris.io/wpd/ to determine the wavelength of the peak that represents the emitted Lyα \n",
    "* Determine the redshift of the quasar and your reading error\n",
    "* Where should the Ly$\\beta$ lie on this spectrum then? Mark it on the figure (add this figure to your lab report)\n",
    "* Analoguesly, where would the Lymann limit lie?\n",
    "* Is the quasar in figure 4 in the visible range ?"
   ]
  },
  {
   "cell_type": "code",
   "execution_count": 25,
   "metadata": {
    "tags": []
   },
   "outputs": [],
   "source": [
    "#solution to task 1 --- feel free to add more cells via , eg, \"Insert\" --> \"Cell Below\""
   ]
  },
  {
   "cell_type": "code",
   "execution_count": 26,
   "metadata": {
    "tags": []
   },
   "outputs": [],
   "source": [
    "#z = 3.156 #+- 0.00271\n",
    "#Ly_alpha = 5051.95\n",
    "#Ly_beta = 4262.89\n",
    "#Ly_lim = 3790.27\n",
    "#Yes"
   ]
  },
  {
   "cell_type": "markdown",
   "metadata": {},
   "source": [
    "![title](QuasarContinuum.png)\n"
   ]
  },
  {
   "cell_type": "markdown",
   "metadata": {},
   "source": [
    "<div class=\"alert alert-block alert-info\">\n",
    "<b>Blue-Box-Task:</b> The red line of the plot illustrates the continuum emission of a Quasar: How is such a continuum in the accretion disc created? Use the application on the following website to explore the effects of the Lyman-limit, Lyman,gamma, Lyman-beta and Lyman-alpha: https://www.asc.ohio-state.edu/ting.74/lyman_alpha.html\n",
    "</div>"
   ]
  },
  {
   "cell_type": "code",
   "execution_count": 27,
   "metadata": {},
   "outputs": [],
   "source": [
    "# In a quasar, we have matter accreting into a dense center. As one approaches the accretion disk from the outer edge, one might observe that the inner \n",
    "# rings have a higher temperature. This temperature dictates the continuum emission of that particular ring region. The quasar spectrum is a combination\n",
    "# of all such concentric rings together that make up the accretion disk."
   ]
  },
  {
   "cell_type": "markdown",
   "metadata": {},
   "source": [
    "<div class=\"alert alert-block alert-info\">\n",
    "<b>Blue-Box-Task:</b> For a quasar with a given redshift, calculate the wavelength from which on the Lyα forest will be contaminated\n",
    "by Lyβ absorption lines.\n",
    "</div>"
   ]
  },
  {
   "cell_type": "code",
   "execution_count": 28,
   "metadata": {},
   "outputs": [],
   "source": [
    "# λ_Lyα < λ < λ_Lyβ*(1+z_quaz) \n",
    "# Assume z = 2 \n",
    "# 1215.67 < λ < 3077.16"
   ]
  },
  {
   "cell_type": "markdown",
   "metadata": {},
   "source": [
    "<div class=\"alert alert-block alert-info\">\n",
    "<b>Blue-Box-Task:</b> Why is there no absorption by intergalactic Lyα on the long-wavelength\n",
    "side of the quasar’s Lyα line?\n",
    "</div>"
   ]
  },
  {
   "cell_type": "code",
   "execution_count": 29,
   "metadata": {},
   "outputs": [],
   "source": [
    "# The intergalactic Lyman Alpha emission, which is say from the O type stars radiating in UV, is not redshifted from cosmology. \n",
    "# It is only redshifted from peculiar velocities and thus the redshift is not strong enough to reach the longer wavelength side. "
   ]
  },
  {
   "cell_type": "markdown",
   "metadata": {},
   "source": [
    "<div class=\"alert alert-block alert-warning\">\n",
    "<b>Info:</b> Before continuing compare the results with your supervisor. Furthermore, he will introduce you to Task 2\n",
    "</div>\n"
   ]
  },
  {
   "cell_type": "markdown",
   "metadata": {},
   "source": [
    "### Task 2: Gunn-Peterson effect\n",
    "\n",
    "Look at figure 5 of the manual. \n",
    "* Assuming the spectum of the lowest redshift quasar to be the same as its intrinsic spectrum, determine the optical depth $\\tau$, $n_{HI}$ and $\\Omega_{HI}$. Assume for $\\tau$ that the intensity is proportional to the flux. Measure all intensities at one wavelength which is not contaminated by Lyman beta. Determine the error for the redshift from the bin sizes and for the intensities from the noise of each line in the plot.\n"
   ]
  },
  {
   "cell_type": "code",
   "execution_count": 30,
   "metadata": {
    "tags": []
   },
   "outputs": [],
   "source": [
    "#solution to task 2 --- feel free to add more cells via , eg, \"Insert\" --> \"Cell Below\""
   ]
  },
  {
   "cell_type": "code",
   "execution_count": 31,
   "metadata": {
    "collapsed": false,
    "jupyter": {
     "outputs_hidden": false
    }
   },
   "outputs": [],
   "source": [
    "#Intensities measured \"by hand\" from the graph at wavelength: WRITE THAT DOWN\n",
    "# or use WebPlotDigitizer: https://apps.automeris.io/wpd/\n",
    "I0 = 0.99123\n",
    "I1 = 0.88596\n",
    "I2 = 0.83333\n",
    "I3 = 0.71930\n",
    "I4 = 0.59649\n",
    "I5 = 0.48246\n",
    "I0err = 4.25e-3\n",
    "I = [I1, I2, I3, I4, I5]\n",
    "Ierr = [8.77e-3, 21.93e-3, 26.32e-3, 43.86e-3, 43.86e-3] \n",
    "z = [3.0, 3.3, 3.7, 4.1, 4.75]\n",
    "zerr = [0.1, 0.2, 0.2, 0.2, 0.45]"
   ]
  },
  {
   "cell_type": "markdown",
   "metadata": {},
   "source": [
    "### Optical thickness of HI\n",
    "* Plot the values of $\\tau$ as a function of redshift \n",
    "* Determine that redshift where $\\tau$ gets optically thick: Fit the points that are displayed on the $\\tau$ vs $z$ plane via linear regression (differently phrased, use a linear fit)\n",
    "* How would the $\\tau$ vs $z$ plot change if we use a real intrinsic spectrum of a quasar?"
   ]
  },
  {
   "cell_type": "code",
   "execution_count": 32,
   "metadata": {
    "tags": []
   },
   "outputs": [
    {
     "data": {
      "text/plain": [
       "[0.11227479334166743,\n",
       " 0.17351687402055946,\n",
       " 0.32066807932743135,\n",
       " 0.5078841192626425,\n",
       " 0.7200485804126293]"
      ]
     },
     "execution_count": 32,
     "metadata": {},
     "output_type": "execute_result"
    }
   ],
   "source": [
    "def tau(I,I0):\n",
    "    return np.log(I0/I)\n",
    "\n",
    "t = [tau(I[i],I0) for i in range(5)]\n",
    "t"
   ]
  },
  {
   "cell_type": "code",
   "execution_count": 33,
   "metadata": {
    "tags": []
   },
   "outputs": [
    {
     "name": "stdout",
     "output_type": "stream",
     "text": [
      "[ 0.36165153 -0.99654776]\n"
     ]
    }
   ],
   "source": [
    "# Linear fit\n",
    "def fitfunc(x, a, b):\n",
    "    return a * x + b\n",
    "xdata = np.array([3.0, 3.3, 3.7, 4.1, 4.75])\n",
    "ydata = np.array([0.11227479334166743,\n",
    " 0.17351687402055946,\n",
    " 0.32066807932743135,\n",
    " 0.5078841192626425,\n",
    " 0.7200485804126293])\n",
    "popt, pcov = curve_fit(fitfunc, xdata, ydata)\n",
    "print(popt)\n",
    "yfit = fitfunc(xdata, *popt)"
   ]
  },
  {
   "cell_type": "code",
   "execution_count": 34,
   "metadata": {
    "tags": []
   },
   "outputs": [
    {
     "name": "stdout",
     "output_type": "stream",
     "text": [
      "Redshift z (tau = 1) =  5.52063967827292\n"
     ]
    },
    {
     "data": {
      "image/png": "[encoded data removed]",
      "text/plain": [
       "<Figure size 640x480 with 1 Axes>"
      ]
     },
     "metadata": {},
     "output_type": "display_data"
    }
   ],
   "source": [
    "plt.scatter(z,t) #plot data\n",
    "plt.plot(xdata,yfit) #plot fit\n",
    "plt.xlabel('Redshift z')\n",
    "plt.ylabel('Optical depth τ')\n",
    "# Extrapolate 1 = y = ax+b -> x = (y-b) /a\n",
    "zt = (1-popt[1])/popt[0]\n",
    "print('Redshift z (tau = 1) = ', zt)\n",
    "plt.scatter(5.52063967827292,1)\n",
    "plt.savefig(\"tauVSredshift.png\", dpi=300, bbox_inches='tight')\n",
    "# Ask why do we make a linear fit, if the function varies as exp(-3/2) for redshift. Is it an approximation? Or is it a range?"
   ]
  },
  {
   "cell_type": "markdown",
   "metadata": {},
   "source": [
    "* In reality the optical depth does not follow a line, see Figure 5 with caption in the following study: https://iopscience.iop.org/article/10.1086/504836/pdf"
   ]
  },
  {
   "cell_type": "markdown",
   "metadata": {},
   "source": [
    "<div class=\"alert alert-block alert-warning\">\n",
    "<b>Info:</b> Before continuing compare the results and implications with your supervisor.\n",
    "</div>"
   ]
  },
  {
   "cell_type": "markdown",
   "metadata": {},
   "source": [
    "### Density of neutral gas\n",
    "* How does the density of neutral gas change over redshift?"
   ]
  },
  {
   "cell_type": "code",
   "execution_count": 35,
   "metadata": {
    "tags": []
   },
   "outputs": [],
   "source": [
    "def nHI(z, t):  # eq 8\n",
    "    return (t * H0 *(1 + z)**(3/2))/(σ0 * c) \n"
   ]
  },
  {
   "cell_type": "code",
   "execution_count": 36,
   "metadata": {
    "tags": []
   },
   "outputs": [
    {
     "name": "stdout",
     "output_type": "stream",
     "text": [
      "Redshift: 3.0 \tn: 1.459891173629331e-11 1/cm³\n",
      "Redshift: 3.3 \tn: 2.514737337264178e-11 1/cm³\n",
      "Redshift: 3.7 \tn: 5.310687527654118e-11 1/cm³\n",
      "Redshift: 4.1 \tn: 9.507539294282475e-11 1/cm³\n",
      "Redshift: 4.75 \tn: 1.6136591208304027e-10 1/cm³\n"
     ]
    }
   ],
   "source": [
    "\n",
    "n = []\n",
    "for i in range(5):\n",
    "    ni = nHI(z[i], t[i])\n",
    "    n.append(ni)\n",
    "    print('Redshift:', z[i],'\\tn:', ni, '1/cm³')\n",
    "nHI = n\n",
    "\n",
    "#N = np.array([1.459891173629331e-11, 2.514737337264178e-11, 5.310687527654118e-11, 9.507539294282475e-11, 1.6136591208304027e-10])\n",
    "#Z = np.array([3.0, 3.3, 3.7, 4.1, 4.75])\n",
    "#plt.scatter(Z, N)"
   ]
  },
  {
   "cell_type": "markdown",
   "metadata": {},
   "source": [
    "### The cosmic density\n",
    "* How does the cosmic density $\\Omega$ change over redshift for the neutral gas and what does it mean (gas fractions)? See for background: http://hyperphysics.phy-astr.gsu.edu/hbase/Astro/denpar.html\n",
    "-> how much is $\\Omega_m$ and how much do $\\Omega_{HI}$ and  $\\Omega_{HII}$ contribute to it at \"our\" redshifts ?\n",
    "* Remember what we asssume for current ionization state at our considered redshifts: Equations 14 and 15 in the manual"
   ]
  },
  {
   "cell_type": "code",
   "execution_count": 37,
   "metadata": {
    "tags": []
   },
   "outputs": [],
   "source": [
    "def Omega(n, z):  # eq 7\n",
    "    return 8 * np.pi * G * mp * n / (3 * (H0)**2 * (1 + z)**3)"
   ]
  },
  {
   "cell_type": "code",
   "execution_count": 38,
   "metadata": {
    "tags": []
   },
   "outputs": [
    {
     "name": "stdout",
     "output_type": "stream",
     "text": [
      "Redshift: 3.0 \tΩHI: 4.437105204165956e-08\n",
      "Redshift: 3.3 \tΩHI: 6.152427155129218e-08\n",
      "Redshift: 3.7 \tΩHI: 9.949846763724526e-08\n",
      "Redshift: 4.1 \tΩHI: 1.3941734816341558e-07\n",
      "Redshift: 4.75 \tΩHI: 1.651077579842181e-07\n"
     ]
    }
   ],
   "source": [
    "OmegaHI = []\n",
    "for i in range(5):\n",
    "    o = Omega(n[i], z[i])\n",
    "    OmegaHI.append(o)\n",
    "    print('Redshift:', z[i],'\\tΩHI:', o)"
   ]
  },
  {
   "cell_type": "code",
   "execution_count": 39,
   "metadata": {
    "tags": []
   },
   "outputs": [
    {
     "ename": "SyntaxError",
     "evalue": "invalid non-printable character U+00A0 (420834986.py, line 3)",
     "output_type": "error",
     "traceback": [
      "\u001b[1;36m  Cell \u001b[1;32mIn[39], line 3\u001b[1;36m\u001b[0m\n\u001b[1;33m    ni = nHII(OmegaHI[i], n[i])\u001b[0m\n\u001b[1;37m                                 ^\u001b[0m\n\u001b[1;31mSyntaxError\u001b[0m\u001b[1;31m:\u001b[0m invalid non-printable character U+00A0\n"
     ]
    }
   ],
   "source": [
    "n2 = []\n",
    "for i in range(5):\n",
    "    ni = nHII(OmegaHI[i], n[i])    "
   ]
  },
  {
   "cell_type": "code",
   "execution_count": null,
   "metadata": {
    "tags": []
   },
   "outputs": [],
   "source": [
    "def Omega2():\n",
    "    return 0.00625 * (H00 / 100)**(-2)\n",
    "print(Omega2())"
   ]
  },
  {
   "cell_type": "code",
   "execution_count": null,
   "metadata": {},
   "outputs": [],
   "source": [
    "ratio = [0.013652620879431499 / OmegaHI[i] for i in range(5)]\n",
    "nHII = [ratio[i] * n[i] for i in range(5)]\n",
    "ratio, nHII"
   ]
  },
  {
   "cell_type": "markdown",
   "metadata": {},
   "source": [
    "<div class=\"alert alert-block alert-warning\">\n",
    "<b>Info:</b> Before continuing compare the results and implications with your supervisor.\n",
    "</div>"
   ]
  },
  {
   "cell_type": "markdown",
   "metadata": {},
   "source": [
    "### The flux of ionizing photons"
   ]
  },
  {
   "cell_type": "code",
   "execution_count": null,
   "metadata": {
    "tags": []
   },
   "outputs": [],
   "source": [
    "# Flux of ionising photons, eq 6\n",
    "def G(nHI, nHII):\n",
    "    return α_rec*nHII**(2) / (nHI*σ_ion)"
   ]
  },
  {
   "cell_type": "code",
   "execution_count": null,
   "metadata": {
    "tags": []
   },
   "outputs": [],
   "source": [
    "Gi = []\n",
    "for i in range(5):\n",
    "    g = G(nHI[i], nHII[i])\n",
    "    Gi.append(g)\n",
    "    print('Redshift:', z[i],'\\t ionizing Flux:',g, 's-1*cm-2', nHI[i], nHII[i])\n",
    "Gi"
   ]
  },
  {
   "cell_type": "markdown",
   "metadata": {},
   "source": [
    "<div class=\"alert alert-block alert-info\">\n",
    "<b>Blue-Box-Task:</b> For a quasar with a given redshift, calculate in which wavelength range\n",
    "photoionization of intergalactic hydrogen can occur.\n",
    "</div>"
   ]
  },
  {
   "cell_type": "markdown",
   "metadata": {},
   "source": [
    "<div class=\"alert alert-block alert-warning\">\n",
    "<b>Info:</b> Before continuing compare the results with your supervisor. Furthermore, he will introduce you to Task 3\n",
    "</div>"
   ]
  },
  {
   "cell_type": "markdown",
   "metadata": {
    "tags": []
   },
   "source": [
    "## Task 3: discuss error propagation\n",
    "\n",
    "* here: https://en.wikipedia.org/wiki/Propagation_of_uncertainty\n",
    "* assume error only on the things you measure for simplicity\n",
    "* how can you modify equations to avoid dependent variables ?\n",
    "* In your report: explain the concept of error propagation very shortly and show the calculation and error propagation only for $\\tau$, $n_{HI}$ and $\\Omega_{HI}$; apply modifications to the equations for variable independence, if necessary"
   ]
  },
  {
   "cell_type": "code",
   "execution_count": null,
   "metadata": {},
   "outputs": [],
   "source": [
    "# When two variables in an equation, that are independent, the error they carry individually \n",
    "# can be epressed for a single quatity which is a function of the two variables. \n",
    "# In the case where they are not indivdual, the variable must be separated before one applies the error propogation.\n",
    "\n",
    "# Equation 2 as an example -> I(xQ) = I(0) * exp(-τ) should be written as log(I0/I) = τ\n",
    "# Similar mathematical manipulations must be done wherever the clause applies."
   ]
  },
  {
   "cell_type": "code",
   "execution_count": null,
   "metadata": {},
   "outputs": [],
   "source": [
    "import numpy as np\n",
    "import matplotlib.pyplot as plt\n",
    "\n",
    "# Data\n",
    "z = np.array([3.0, 3.3, 3.7, 4.1, 4.75])\n",
    "n_HI = np.array([1.46e-11, 2.51e-11, 5.31e-11, 9.51e-11, 1.61e-10])\n",
    "\n",
    "# Linear fit\n",
    "a_n, b_n = np.polyfit(z, n_HI, 1)\n",
    "print(f\"n_HI(z) ≈ {a_n:.2e}·z + {b_n:.2e}\")\n",
    "\n",
    "# Extrapolate at z = 5.52063\n",
    "z_extrap = 5.52063\n",
    "n_extrap = a_n * z_extrap + b_n\n",
    "print(f\"Extrapolated n_HI at z = {z_extrap:.5f} is {n_extrap:.2e} cm⁻³\")\n",
    "\n",
    "# Fit curve\n",
    "z_fit = np.linspace(min(z), z_extrap + 0.5, 300)\n",
    "n_fit = a_n * z_fit + b_n\n",
    "\n",
    "# Plotting\n",
    "plt.figure(figsize=(8, 5))\n",
    "plt.plot(z, n_HI, 'o', color='tab:blue', label=r'$n_{\\mathrm{HI}}(z)$ data')\n",
    "plt.plot(z_fit, n_fit, '--', color='black', label='Linear fit')\n",
    "\n",
    "# Extrapolated point\n",
    "plt.plot(z_extrap, n_extrap, 's', color='red', label=fr'Extrapolated point at $z = {z_extrap:.2f}$')\n",
    "plt.annotate(fr\"$n_{{\\mathrm{{HI}}}} \\approx {n_extrap:.2e}$ cm$^{{-3}}$\",\n",
    "             (z_extrap, n_extrap),\n",
    "             textcoords=\"offset points\", xytext=(-60,10), ha='center', fontsize=9, color='red')\n",
    "\n",
    "plt.xlabel('Redshift $z$')\n",
    "plt.ylabel(r'Neutral Hydrogen Number Density $n_{\\mathrm{HI}}$ (cm$^{-3}$)')\n",
    "plt.title('Neutral Hydrogen Density vs Redshift')\n",
    "plt.legend()\n",
    "plt.tight_layout()\n",
    "plt.savefig(\"my_plot.png\", dpi=300, bbox_inches='tight')\n",
    "plt.show()"
   ]
  },
  {
   "cell_type": "code",
   "execution_count": null,
   "metadata": {},
   "outputs": [],
   "source": [
    "import numpy as np\n",
    "\n",
    "def compute_tau_error(Ix, delta_Ix, Iquasar, delta_Iquasar):\n",
    "    \"\"\"\n",
    "    Compute the propagated uncertainty in tau based on:\n",
    "    δτ = sqrt[(δI_quasar / I_quasar)^2 + (δI / I)^2]\n",
    "\n",
    "    Parameters:\n",
    "    Ix : np.ndarray\n",
    "        Array of I(x) values\n",
    "    delta_Ix : np.ndarray\n",
    "        Array of uncertainties in I(x)\n",
    "    Iquasar : float\n",
    "        Constant value of I(x_quasar)\n",
    "    delta_Iquasar : float\n",
    "        Uncertainty in I(x_quasar)\n",
    "\n",
    "    Returns:\n",
    "    delta_tau : np.ndarray\n",
    "        Propagated uncertainties in τ for each Ix\n",
    "    \"\"\"\n",
    "    term_quasar = (delta_Iquasar / Iquasar)**2\n",
    "    term_x = (delta_Ix / Ix)**2\n",
    "    delta_tau = np.sqrt(term_quasar + term_x)\n",
    "    return delta_tau"
   ]
  },
  {
   "cell_type": "code",
   "execution_count": null,
   "metadata": {},
   "outputs": [],
   "source": [
    "Ix = np.array([0.88596, 0.83333, 0.7193, 0.59649, 0.48246])\n",
    "delta_Ix = np.array([8.77e-3, 21.93e-3, 26.32e-3, 43.86e-3, 43.86e-3])\n",
    "Iquasar = 0.99123\n",
    "delta_Iquasar = 4.25e-3\n",
    "\n",
    "delta_tau = compute_tau_error(Ix, delta_Ix, Iquasar, delta_Iquasar)\n",
    "print(delta_tau)"
   ]
  },
  {
   "cell_type": "code",
   "execution_count": null,
   "metadata": {},
   "outputs": [],
   "source": [
    "import numpy as np\n",
    "\n",
    "def compute_nHI_error(tau, delta_tau, z, delta_z, H0, sigma_0, c):\n",
    "    \"\"\"\n",
    "    Compute the propagated uncertainty in n_HI.\n",
    "\n",
    "    Parameters:\n",
    "    tau : np.ndarray\n",
    "        Optical depth values (τ)\n",
    "    delta_tau : np.ndarray\n",
    "        Uncertainty in optical depth (δτ)\n",
    "    z : np.ndarray\n",
    "        Redshift values\n",
    "    delta_z : np.ndarray\n",
    "        Uncertainty in redshift values\n",
    "    H0 : float\n",
    "        Hubble constant (in cgs units: s^-1)\n",
    "    sigma_0 : float\n",
    "        Effective cross-section for Lyα (cm^2)\n",
    "    c : float\n",
    "        Speed of light (cm/s)\n",
    "\n",
    "    Returns:\n",
    "    delta_nHI : np.ndarray\n",
    "        Propagated uncertainties in n_HI\n",
    "    \"\"\"\n",
    "    prefactor = H0 / (sigma_0 * c)\n",
    "    term1 = (prefactor * (1 + z)**(3/2) * delta_tau)**2\n",
    "    term2 = (prefactor * tau * (3/2) * (1 + z)**(1/2) * delta_z)**2\n",
    "    delta_nHI = np.sqrt(term1 + term2)\n",
    "    return delta_nHI"
   ]
  },
  {
   "cell_type": "code",
   "execution_count": null,
   "metadata": {},
   "outputs": [],
   "source": [
    "# Example constants in cgs units\n",
    "H0 = 2.193e-18       # Hubble constant in s^-1\n",
    "sigma_0 = 4.5e-18    # cm^2\n",
    "c = 2.99792458e10    # cm/s\n",
    "\n",
    "# Example data\n",
    "tau = np.array([np.float64(0.11227479334166743),np.float64(0.17351687402055946),np.float64(0.32066807932743135),np.float64(0.5078841192626425),np.float64(0.7200485804126293)])\n",
    "delta_tau = np.array([0.01078754, 0.0266631, 0.03684148, 0.07365505, 0.09101014])\n",
    "z = np.array([3.0, 3.3, 3.7, 4.1, 4.75])\n",
    "delta_z = np.array([0.1, 0.2, 0.2, 0.2, 0.45])\n",
    "\n",
    "# Compute uncertainty in n_HI\n",
    "delta_nHI = compute_nHI_error(tau, delta_tau, z, delta_z, H0, sigma_0, c)\n",
    "print(delta_nHI)"
   ]
  },
  {
   "cell_type": "code",
   "execution_count": null,
   "metadata": {},
   "outputs": [],
   "source": [
    "Ix = np.array([0.88596, 0.83333, 0.7193, 0.59649, 0.48246])\n",
    "Ierr = [8.77e-3, 21.93e-3, 26.32e-3, 43.86e-3, 43.86e-3] \n",
    "z = [3.0, 3.3, 3.7, 4.1, 4.75]\n",
    "zerr = [0.1, 0.2, 0.2, 0.2, 0.45]\n",
    "tau = np.array([np.float64(0.11227479334166743),np.float64(0.17351687402055946),np.float64(0.32066807932743135),np.float64(0.5078841192626425),np.float64(0.7200485804126293)])\n",
    "delta_tau = np.array([0.01078754, 0.0266631, 0.03684148, 0.07365505, 0.09101014])\n",
    "n_HI = np.array([1.46e-11, 2.51e-11, 5.31e-11, 9.51e-11, 1.61e-10])\n",
    "delta_nHI = [1.50593436e-12, 4.24441722e-12, 6.98076677e-12, 1.48811750e-11, 2.78392963e-11]\n",
    "Omega = [4.437105204165956e-08, 6.152427155129218e-08, 9.949846763724526e-08, 1.3941734816341558e-07 ,1.651077579842181e-07]\n",
    "\n",
    "\n"
   ]
  },
  {
   "cell_type": "code",
   "execution_count": null,
   "metadata": {},
   "outputs": [],
   "source": [
    "import numpy as np\n",
    "\n",
    "def delta_omega_HI(tau_HI, delta_tau_HI, z, delta_z):\n",
    "    # Physical constants in cgs units\n",
    "    G = 6.67430e-8       # Gravitational constant [cm^3 g^-1 s^-2]\n",
    "    m_p = 1.6726219e-24  # Proton mass [g]\n",
    "    sigma_0 = 4.5e-18    # Cross-section [cm^2]\n",
    "    c = 2.99792458e10    # Speed of light [cm/s]\n",
    "    H_0 = 2.2e-18        # Hubble constant [s^-1]\n",
    "\n",
    "    # Constant prefactor\n",
    "    A = (8 * np.pi * G * m_p) / (3 * sigma_0 * c * H_0)\n",
    "\n",
    "    # Compute the two terms inside the square root\n",
    "    term1 = ((1 + z)**(-3/2) * delta_tau_HI)**2\n",
    "    term2 = ((3/2) * tau_HI * (1 + z)**(-5/2) * delta_z)**2\n",
    "\n",
    "    # Final result\n",
    "    delta_Omega_HI = A * np.sqrt(term1 + term2)\n",
    "    return delta_Omega_HI"
   ]
  },
  {
   "cell_type": "code",
   "execution_count": null,
   "metadata": {},
   "outputs": [],
   "source": [
    "tau = np.array([np.float64(0.11227479334166743),np.float64(0.17351687402055946),np.float64(0.32066807932743135),np.float64(0.5078841192626425),np.float64(0.7200485804126293)])\n",
    "delta_tau = np.array([0.01078754, 0.0266631, 0.03684148, 0.07365505, 0.09101014])\n",
    "z = np.array([3.0, 3.3, 3.7, 4.1, 4.75])\n",
    "delta_z = np.array([0.1, 0.2, 0.2, 0.2, 0.45])\n",
    "\n",
    "delta_omega = delta_omega_HI(tau, delta_tau, z, delta_z)\n",
    "print(delta_omega)"
   ]
  },
  {
   "cell_type": "code",
   "execution_count": null,
   "metadata": {},
   "outputs": [],
   "source": [
    "Gi"
   ]
  }
 ],
 "metadata": {
  "anaconda-cloud": {},
  "kernelspec": {
   "display_name": "Python 3 (ipykernel)",
   "language": "python",
   "name": "python3"
  },
  "language_info": {
   "codemirror_mode": {
    "name": "ipython",
    "version": 3
   },
   "file_extension": ".py",
   "mimetype": "text/x-python",
   "name": "python",
   "nbconvert_exporter": "python",
   "pygments_lexer": "ipython3",
   "version": "3.11.3"
  },
  "latex_envs": {
   "LaTeX_envs_menu_present": true,
   "autoclose": false,
   "autocomplete": true,
   "bibliofile": "biblio.bib",
   "cite_by": "apalike",
   "current_citInitial": 1,
   "eqLabelWithNumbers": true,
   "eqNumInitial": 1,
   "hotkeys": {
    "equation": "Ctrl-E",
    "itemize": "Ctrl-I"
   },
   "labels_anchors": false,
   "latex_user_defs": false,
   "report_style_numbering": false,
   "user_envs_cfg": false
  }
 },
 "nbformat": 4,
 "nbformat_minor": 4
}
