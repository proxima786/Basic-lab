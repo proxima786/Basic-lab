{
 "cells": [
  {
   "cell_type": "code",
   "execution_count": 2,
   "id": "2e26d833-95e1-434d-aef5-ac54c29e1c9b",
   "metadata": {},
   "outputs": [],
   "source": [
    "import numpy as np\n",
    "import matplotlib.pyplot as plt"
   ]
  },
  {
   "cell_type": "code",
   "execution_count": null,
   "id": "263a2363-1567-4ad7-bef7-125f1db6735e",
   "metadata": {},
   "outputs": [],
   "source": [
    "c = 3.0 * 1e8 "
   ]
  },
  {
   "cell_type": "code",
   "execution_count": 3,
   "id": "47fc0f6b-09eb-46ce-8685-38ae7030cd9f",
   "metadata": {},
   "outputs": [],
   "source": [
    "wave = [1.2,1.6,2.2,3.6,4.5,5.8,8.0] #in microns\n",
    "wave_log = np.log10(np.array(wave)) #log of wavelength\n",
    "flux_zero_point = [1590,1020,667,280.9,179.7,115.0,64.13]\n",
    "mag_calculated = [] #magnitudes from our previous calculations\n",
    "flux_jy = []\n",
    "for mag , fzero in zip(mag_calculated , flux_zero_point):\n",
    "    fjy = fzero * 10**(-mag/2.5)\n",
    "    flux_jy.append(fjy)\n",
    "#now we have our flux values in Jy, need conversion \n",
    "jy = 10**(-23) #erg/s/cm^2/Hz\n",
    "flux_nu = flux_jy * jy #F_ν\n",
    "flux_lam = flux_nu * "
   ]
  }
 ],
 "metadata": {
  "kernelspec": {
   "display_name": "Python 3 (ipykernel)",
   "language": "python",
   "name": "python3"
  },
  "language_info": {
   "codemirror_mode": {
    "name": "ipython",
    "version": 3
   },
   "file_extension": ".py",
   "mimetype": "text/x-python",
   "name": "python",
   "nbconvert_exporter": "python",
   "pygments_lexer": "ipython3",
   "version": "3.11.3"
  }
 },
 "nbformat": 4,
 "nbformat_minor": 5
}
