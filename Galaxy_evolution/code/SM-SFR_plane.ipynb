{
 "cells": [
  {
   "cell_type": "code",
   "execution_count": 84,
   "id": "e3b2d436-09ae-4132-91d0-ce4e283b1970",
   "metadata": {},
   "outputs": [],
   "source": [
    "from astropy.table import Table\n",
    "import matplotlib.pyplot as plt\n",
    "import numpy as np\n",
    "import numpy.typing as npt\n",
    "from scipy import optimize as opt\n",
    "from scipy.optimize import curve_fit\n",
    "import pandas as pd\n",
    "from astropy.cosmology import Planck18 as cosmo\n",
    "plt.rcParams['font.family'] = 'serif'\n",
    "plt.rcParams['font.size']   = 11\n",
    "plt.rcParams['text.usetex'] = True\n",
    "plt.rcParams['text.latex.preamble'] = r'''\n",
    "\\usepackage{physics}\n",
    "\\usepackage{siunitx}\n",
    "%%% astronomical units\n",
    "\\DeclareSIUnit \\au {au}\n",
    "\\DeclareSIUnit \\jansky {Jk}\n",
    "\\DeclareSIUnit \\ly {ly}\n",
    "\\DeclareSIUnit \\parsec {pc}\n",
    "\\DeclareSIUnit \\mag {mag}\n",
    "\\DeclareSIUnit \\solarmass {\\ensuremath{\\mathit{M_{\\odot}}}}\n",
    "\\DeclareSIUnit \\yr {yr}\n",
    "%%% cgs units\n",
    "\\DeclareSIUnit \\erg {erg}\n",
    "\\DeclareSIUnit \\cm {cm}\n",
    "\\DeclareSIUnit \\gram {g}\n",
    "'''"
   ]
  },
  {
   "cell_type": "code",
   "execution_count": 85,
   "id": "5841473b-e1f4-4b86-bbb9-fc374f7d26cf",
   "metadata": {},
   "outputs": [],
   "source": [
    "%matplotlib inline\n",
    "import matplotlib\n",
    "matplotlib.use('module://matplotlib_inline.backend_inline')"
   ]
  },
  {
   "cell_type": "code",
   "execution_count": 86,
   "id": "32ee995a-7159-4eba-af6d-529e2864f09a",
   "metadata": {},
   "outputs": [],
   "source": [
    " results_no_nebular = Table.read('results_no_nebular_new_true.txt', format='ascii')"
   ]
  },
  {
   "cell_type": "code",
   "execution_count": 87,
   "id": "0d84058b-b916-44b9-bcac-99975c5262f4",
   "metadata": {},
   "outputs": [],
   "source": [
    "def binning(\n",
    "        redshifts: npt.NDArray,\n",
    "        bin_edges: npt.NDArray,\n",
    "        samples_per_bin: int=10\n",
    "        ) -> npt.NDArray:\n",
    "    rng = np.random.default_rng()\n",
    "    num_bins = len(bin_edges) - 1\n",
    "    bin_indices = np.digitize(redshifts, bin_edges, right=False)\n",
    "    return np.array([\n",
    "        rng.choice(np.flatnonzero(bin_indices ==  i + 1), size=samples_per_bin) for i in range(num_bins)\n",
    "        ])\n",
    "\n",
    "\n",
    "#def log10SFR_time_Eq10_fit(log_M_star, t, a0, a1, b0, b1, b2):\n",
    " #   return (a1 * t + b1) * log_M_star + b2 * log_M_star * log_M_star + (b0 + a0 * t)\n",
    "def alpha(mu, a0, a1):\n",
    "   \n",
    "    return a0 + a1 * mu\n",
    "\n",
    "def beta(mu, b0, b1, b2):\n",
    "   \n",
    "    return b0 + b1 * mu + b2 * mu**2\n",
    "\n",
    "def sfr_log10_model(X, a0, a1, b0, b1, b2):\n",
    "  \n",
    "    t, M_star = X\n",
    "    mu = np.log10(M_star)\n",
    "\n",
    "    return alpha(mu, a0, a1) * t + beta(mu, b0, b1, b2)\n",
    "  \n"
   ]
  },
  {
   "cell_type": "code",
   "execution_count": 88,
   "id": "42a2ccbd-c599-4e96-bab0-de1db80046c2",
   "metadata": {},
   "outputs": [],
   "source": [
    "log_ssfr = np.log10(results_no_nebular['bayes.sfh.sfr10Myrs']/results_no_nebular['bayes.stellar.m_star'])\n",
    "\n",
    "mask_quiescent = (log_ssfr < -10.5)\n",
    "mask_starforming = (log_ssfr > -10.5)\n",
    "\n",
    "quiescent_table = all_galaxies_table[mask_quiescent]\n",
    "starforming_table = all_galaxies_table[mask_starforming]"
   ]
  },
  {
   "cell_type": "code",
   "execution_count": 89,
   "id": "a7dd80d1-2ceb-439c-b16d-202f08ea9c55",
   "metadata": {},
   "outputs": [
    {
     "data": {
      "text/plain": [
       "<TableColumns names=('id','bayes.sfh.sfr10Myrs','bayes.sfh.sfr10Myrs_err','bayes.stellar.m_star','bayes.stellar.m_star_err','bayes.cfht.megacam.u','bayes.cfht.megacam.u_err','bayes.paranal.vircam.H','bayes.paranal.vircam.H_err','bayes.paranal.vircam.J','bayes.paranal.vircam.J_err','bayes.paranal.vircam.Ks','bayes.paranal.vircam.Ks_err','bayes.subaru.suprime.Y','bayes.subaru.suprime.Y_err','bayes.subaru.suprime.g','bayes.subaru.suprime.g_err','bayes.subaru.suprime.i','bayes.subaru.suprime.i_err','bayes.subaru.suprime.r','bayes.subaru.suprime.r_err','bayes.subaru.suprime.z','bayes.subaru.suprime.z_err','best.chi_square','best.reduced_chi_square','best.attenuation.Av_BC','best.attenuation.Av_ISM','best.attenuation.galex.FUV','best.attenuation.generic.bessell.B','best.attenuation.generic.bessell.V','best.attenuation.mu','best.attenuation.slope_BC','best.attenuation.slope_ISM','best.sfh.age','best.sfh.age_burst','best.sfh.age_main','best.sfh.f_burst','best.sfh.tau_burst','best.sfh.tau_main','best.stellar.age_m_star','best.stellar.imf','best.stellar.metallicity','best.stellar.old_young_separation_age','best.universe.age','best.universe.luminosity_distance','best.universe.redshift','best.dust.luminosity','best.sfh.integrated','best.sfh.sfr','best.sfh.sfr100Myrs','best.sfh.sfr10Myrs','best.stellar.lum','best.stellar.lum_ly','best.stellar.lum_ly_old','best.stellar.lum_ly_young','best.stellar.lum_old','best.stellar.lum_young','best.stellar.m_gas','best.stellar.m_gas_old','best.stellar.m_gas_young','best.stellar.m_star','best.stellar.m_star_old','best.stellar.m_star_young','best.stellar.n_ly','best.stellar.n_ly_old','best.stellar.n_ly_young','best.cfht.megacam.u','best.subaru.suprime.g','best.subaru.suprime.r','best.subaru.suprime.i','best.subaru.suprime.z','best.subaru.suprime.Y','best.paranal.vircam.J','best.paranal.vircam.H','best.paranal.vircam.Ks')>"
      ]
     },
     "execution_count": 89,
     "metadata": {},
     "output_type": "execute_result"
    }
   ],
   "source": [
    "starforming_table.columns"
   ]
  },
  {
   "cell_type": "code",
   "execution_count": 90,
   "id": "30739afe-78bd-46f4-9a9e-7fae9fb342fa",
   "metadata": {},
   "outputs": [],
   "source": [
    "# 1) Select your star‐forming sample and pull out the relevant arrays:\n",
    "sf = starforming_table\n",
    "z = sf['best.universe.redshift']\n",
    "Mstar = sf['bayes.stellar.m_star']\n",
    "sfr = sf['bayes.sfh.sfr10Myrs']"
   ]
  },
  {
   "cell_type": "code",
   "execution_count": 91,
   "id": "53ab1c15-8773-4909-8718-b33fb58e95cd",
   "metadata": {},
   "outputs": [],
   "source": [
    "t = cosmo.age(z).to_value('Gyr')"
   ]
  },
  {
   "cell_type": "code",
   "execution_count": 92,
   "id": "d69f8e9d-c132-4708-bab1-67df232179b6",
   "metadata": {},
   "outputs": [],
   "source": [
    "logM = np.log10(Mstar)\n",
    "logSFR = np.log10(sfr)"
   ]
  },
  {
   "cell_type": "code",
   "execution_count": 93,
   "id": "0c2fb21a-2a33-4e49-8fa1-db0404523948",
   "metadata": {},
   "outputs": [],
   "source": [
    "logSFR = np.log10(sfr)\n",
    "# propagate SFR errors into log space\n",
    "err_sfr  = sf['bayes.sfh.sfr10Myrs_err']      # your SFR‐error column\n",
    "err_logS = err_sfr / (sfr * np.log(10))\n"
   ]
  },
  {
   "cell_type": "code",
   "execution_count": 94,
   "id": "6fc889c4-da75-47e7-9a92-2aeaa7001435",
   "metadata": {},
   "outputs": [],
   "source": [
    "N_bins = 10\n",
    "# use percentiles to get edges that split the data into N_bins equal–N groups\n",
    "bin_edges = np.percentile(z, np.linspace(0, 100, N_bins+1))"
   ]
  },
  {
   "cell_type": "code",
   "execution_count": 99,
   "id": "fa227a05-0532-403c-abe5-6fce289e2fbf",
   "metadata": {},
   "outputs": [],
   "source": [
    "idxs = binning(z, bin_edges, samples_per_bin=10)"
   ]
  },
  {
   "cell_type": "code",
   "execution_count": 103,
   "id": "05c6171b-0862-4bdd-a5f8-69d607500258",
   "metadata": {},
   "outputs": [
    {
     "ename": "NameError",
     "evalue": "name 'err_logSFR' is not defined",
     "output_type": "error",
     "traceback": [
      "\u001b[1;31m---------------------------------------------------------------------------\u001b[0m",
      "\u001b[1;31mNameError\u001b[0m                                 Traceback (most recent call last)",
      "Cell \u001b[1;32mIn[103], line 18\u001b[0m\n\u001b[0;32m     10\u001b[0m     p0 \u001b[38;5;241m=\u001b[39m [\u001b[38;5;241m0.20\u001b[39m, \u001b[38;5;241m-\u001b[39m\u001b[38;5;241m0.034\u001b[39m, \u001b[38;5;241m-\u001b[39m\u001b[38;5;241m26.134\u001b[39m, \u001b[38;5;241m4.722\u001b[39m, \u001b[38;5;241m-\u001b[39m\u001b[38;5;241m0.1925\u001b[39m]\n\u001b[0;32m     12\u001b[0m     \u001b[38;5;66;03m# curve_fit wants X data as a tuple:\u001b[39;00m\n\u001b[0;32m     13\u001b[0m popt, pcov \u001b[38;5;241m=\u001b[39m curve_fit(\n\u001b[0;32m     14\u001b[0m     sfr_log10_model,\n\u001b[0;32m     15\u001b[0m     (ti, Mi),\n\u001b[0;32m     16\u001b[0m     Li,\n\u001b[0;32m     17\u001b[0m     p0\u001b[38;5;241m=\u001b[39mp0,\n\u001b[1;32m---> 18\u001b[0m     sigma\u001b[38;5;241m=\u001b[39m\u001b[43merr_logSFR\u001b[49m[sel],\n\u001b[0;32m     19\u001b[0m     absolute_sigma\u001b[38;5;241m=\u001b[39m\u001b[38;5;28;01mTrue\u001b[39;00m,\n\u001b[0;32m     20\u001b[0m     maxfev\u001b[38;5;241m=\u001b[39m\u001b[38;5;241m5000\u001b[39m\n\u001b[0;32m     21\u001b[0m )\n\u001b[0;32m     25\u001b[0m perr \u001b[38;5;241m=\u001b[39m np\u001b[38;5;241m.\u001b[39msqrt(np\u001b[38;5;241m.\u001b[39mdiag(pcov))\n\u001b[0;32m     26\u001b[0m fit_results\u001b[38;5;241m.\u001b[39mappend({\n\u001b[0;32m     27\u001b[0m     \u001b[38;5;124m'\u001b[39m\u001b[38;5;124mbin\u001b[39m\u001b[38;5;124m'\u001b[39m: i,\n\u001b[0;32m     28\u001b[0m     \u001b[38;5;124m'\u001b[39m\u001b[38;5;124mz_min\u001b[39m\u001b[38;5;124m'\u001b[39m: bin_edges[i\u001b[38;5;241m-\u001b[39m\u001b[38;5;241m1\u001b[39m],\n\u001b[1;32m   (...)\u001b[0m\n\u001b[0;32m     34\u001b[0m     \u001b[38;5;124m'\u001b[39m\u001b[38;5;124mb2\u001b[39m\u001b[38;5;124m'\u001b[39m: (popt[\u001b[38;5;241m4\u001b[39m], perr[\u001b[38;5;241m4\u001b[39m]),\n\u001b[0;32m     35\u001b[0m })\n",
      "\u001b[1;31mNameError\u001b[0m: name 'err_logSFR' is not defined"
     ]
    }
   ],
   "source": [
    "fit_results = []\n",
    "bin_idx = np.digitize(z, bin_edges, right=True)\n",
    "for i in range(1, N_bins+1):\n",
    "    sel = (bin_idx == i)\n",
    "    ti = t[sel]\n",
    "    Mi = Mstar[sel]\n",
    "    Li = logSFR[sel]\n",
    "\n",
    "    # initial guesses for a0, a1, b0, b1, b2\n",
    "    p0 = [0.20, -0.034, -26.134, 4.722, -0.1925]\n",
    "\n",
    "    # curve_fit wants X data as a tuple:\n",
    "popt, pcov = curve_fit(\n",
    "    sfr_log10_model,\n",
    "    (ti, Mi),\n",
    "    Li,\n",
    "    p0=p0,\n",
    "    sigma=err_logSFR[sel],\n",
    "    absolute_sigma=True,\n",
    "    maxfev=5000\n",
    ")\n",
    "\n",
    "\n",
    "\n",
    "perr = np.sqrt(np.diag(pcov))\n",
    "fit_results.append({\n",
    "    'bin': i,\n",
    "    'z_min': bin_edges[i-1],\n",
    "    'z_max': bin_edges[i],\n",
    "    'a0': (popt[0], perr[0]),\n",
    "    'a1': (popt[1], perr[1]),\n",
    "    'b0': (popt[2], perr[2]),\n",
    "    'b1': (popt[3], perr[3]),\n",
    "    'b2': (popt[4], perr[4]),\n",
    "})"
   ]
  },
  {
   "cell_type": "code",
   "execution_count": 97,
   "id": "b3aa18ab-93de-4641-ae7b-dac91f85abbc",
   "metadata": {},
   "outputs": [
    {
     "name": "stdout",
     "output_type": "stream",
     "text": [
      "Bin 1 (z = 0.01–0.22):\n",
      "  a0 = -0.375 ± 0.202\n",
      "  a1 = 0.031 ± 0.023\n",
      "  b0 = -17.014 ± 3.420\n",
      "  b1 = 4.149 ± 0.505\n",
      "  b2 = -0.234 ± 0.014\n",
      "\n",
      "Bin 2 (z = 0.22–0.31):\n",
      "  a0 = -0.610 ± 0.369\n",
      "  a1 = 0.047 ± 0.039\n",
      "  b0 = -12.703 ± 3.972\n",
      "  b1 = 3.496 ± 0.468\n",
      "  b2 = -0.200 ± 0.016\n",
      "\n",
      "Bin 3 (z = 0.31–0.36):\n",
      "  a0 = -3.057 ± 0.541\n",
      "  a1 = 0.268 ± 0.052\n",
      "  b0 = 80.330 ± 5.396\n",
      "  b1 = -12.385 ± 0.559\n",
      "  b2 = 0.476 ± 0.013\n",
      "\n",
      "Bin 4 (z = 0.36–0.46):\n",
      "  a0 = -1.572 ± 0.311\n",
      "  a1 = 0.124 ± 0.030\n",
      "  b0 = 55.632 ± 3.392\n",
      "  b1 = -9.053 ± 0.412\n",
      "  b2 = 0.386 ± 0.012\n",
      "\n",
      "Bin 5 (z = 0.46–0.56):\n",
      "  a0 = -8.345 ± 0.356\n",
      "  a1 = 0.806 ± 0.034\n",
      "  b0 = 91.251 ± 3.020\n",
      "  b1 = -10.490 ± 0.359\n",
      "  b2 = 0.170 ± 0.015\n",
      "\n",
      "Bin 6 (z = 0.56–0.66):\n",
      "  a0 = -6.169 ± 0.555\n",
      "  a1 = 0.564 ± 0.054\n",
      "  b0 = 69.913 ± 5.099\n",
      "  b1 = -8.073 ± 0.627\n",
      "  b2 = 0.161 ± 0.020\n",
      "\n",
      "Bin 7 (z = 0.66–0.74):\n",
      "  a0 = -6.318 ± 0.918\n",
      "  a1 = 0.543 ± 0.087\n",
      "  b0 = 92.568 ± 8.082\n",
      "  b1 = -12.109 ± 0.930\n",
      "  b2 = 0.364 ± 0.021\n",
      "\n",
      "Bin 8 (z = 0.74–0.84):\n",
      "  a0 = -3.323 ± 0.591\n",
      "  a1 = 0.287 ± 0.056\n",
      "  b0 = 49.662 ± 5.201\n",
      "  b1 = -6.390 ± 0.652\n",
      "  b2 = 0.190 ± 0.019\n",
      "\n",
      "Bin 9 (z = 0.84–0.96):\n",
      "  a0 = -7.748 ± 0.585\n",
      "  a1 = 0.690 ± 0.054\n",
      "  b0 = 60.950 ± 4.247\n",
      "  b1 = -5.910 ± 0.524\n",
      "  b2 = 0.053 ± 0.019\n",
      "\n",
      "Bin 10 (z = 0.96–5.50):\n",
      "  a0 = 1.050 ± 0.096\n",
      "  a1 = -0.133 ± 0.008\n",
      "  b0 = -22.459 ± 2.804\n",
      "  b1 = 4.555 ± 0.473\n",
      "  b2 = -0.194 ± 0.020\n",
      "\n"
     ]
    }
   ],
   "source": [
    "for r in fit_results:\n",
    "    print(f\"Bin {r['bin']} (z = {r['z_min']:.2f}–{r['z_max']:.2f}):\")\n",
    "    print(f\"  a0 = {r['a0'][0]:.3f} ± {r['a0'][1]:.3f}\")\n",
    "    print(f\"  a1 = {r['a1'][0]:.3f} ± {r['a1'][1]:.3f}\")\n",
    "    print(f\"  b0 = {r['b0'][0]:.3f} ± {r['b0'][1]:.3f}\")\n",
    "    print(f\"  b1 = {r['b1'][0]:.3f} ± {r['b1'][1]:.3f}\")\n",
    "    print(f\"  b2 = {r['b2'][0]:.3f} ± {r['b2'][1]:.3f}\")\n",
    "    print()"
   ]
  },
  {
   "cell_type": "code",
   "execution_count": 111,
   "id": "27d753d4-4d70-44bc-bf99-52663783bfc5",
   "metadata": {},
   "outputs": [
    {
     "name": "stdout",
     "output_type": "stream",
     "text": [
      "Bin 1:\n",
      "  a0 = -1.248 ± 1.338\n",
      "  a1 = 0.107 ± 0.142\n",
      "  b0 = 7.742 ± 24.627\n",
      "  b1 = -0.111 ± 3.644\n",
      "  b2 = -0.041 ± 0.114\n",
      "\n",
      "Bin 2:\n",
      "  a0 = -0.831 ± 2.074\n",
      "  a1 = 0.059 ± 0.207\n",
      "  b0 = 13.043 ± 30.810\n",
      "  b1 = -1.463 ± 4.782\n",
      "  b2 = 0.048 ± 0.194\n",
      "\n",
      "Bin 3:\n",
      "  a0 = -3.161 ± 3.523\n",
      "  a1 = 0.276 ± 0.338\n",
      "  b0 = 44.243 ± 43.019\n",
      "  b1 = -5.589 ± 6.300\n",
      "  b2 = 0.160 ± 0.235\n",
      "\n",
      "Bin 4:\n",
      "  a0 = 0.218 ± 1.898\n",
      "  a1 = -0.060 ± 0.170\n",
      "  b0 = -9.143 ± 45.202\n",
      "  b1 = 2.496 ± 7.654\n",
      "  b2 = -0.116 ± 0.326\n",
      "\n"
     ]
    }
   ],
   "source": [
    "from astropy.cosmology import Planck18 as cosmo\n",
    "from scipy.optimize import curve_fit\n",
    "\n",
    "sf = starforming_table\n",
    "z  = sf['best.universe.redshift']\n",
    "M  = sf['bayes.stellar.m_star']\n",
    "s  = sf['bayes.sfh.sfr10Myrs']\n",
    "t  = cosmo.age(z).to_value('Gyr')\n",
    "\n",
    "logM    = np.log10(M)\n",
    "logSFR  = np.log10(s)\n",
    "errSFR  = sf['bayes.sfh.sfr10Myrs_err']      # whatever your error column is\n",
    "errLogS = errSFR / (s * np.log(10))          # propagate to log‐space\n",
    "\n",
    "# equal‐N bins in z\n",
    "N_bins   = 4\n",
    "edges    = np.percentile(z, np.linspace(0,100,N_bins+1))\n",
    "bin_idx  = np.digitize(z, edges, right=True)\n",
    "\n",
    "# your literature starting values\n",
    "p0 = [0.2, 0.0, -8.0, 0.0, 0.0]\n",
    "fit_results = []\n",
    "for i in range(1, N_bins+1):\n",
    "    sel = (bin_idx == i)\n",
    "    ti, Mi, Li = t[sel], M[sel], logSFR[sel]\n",
    "    sigi       = errLogS[sel]\n",
    "\n",
    "    popt, pcov = curve_fit(\n",
    "      sfr_log10_model,\n",
    "      (ti, Mi),\n",
    "      Li,\n",
    "      p0=p0,\n",
    "    \n",
    "      absolute_sigma=True,\n",
    "      maxfev=5000\n",
    "    )\n",
    "\n",
    "    perr = np.sqrt(np.diag(pcov))\n",
    "    fit_results.append((popt, perr))\n",
    "\n",
    "# print them out...\n",
    "for i,(p,err) in enumerate(fit_results, 1):\n",
    "    print(f\"Bin {i}:\")\n",
    "    for name,val,er in zip((\"a0\",\"a1\",\"b0\",\"b1\",\"b2\"), p, err):\n",
    "        print(f\"  {name} = {val:.3f} ± {er:.3f}\")\n",
    "    print()\n"
   ]
  },
  {
   "cell_type": "code",
   "execution_count": null,
   "id": "bbe7bd68-97d8-4be3-be88-34162ffc81c4",
   "metadata": {},
   "outputs": [],
   "source": []
  }
 ],
 "metadata": {
  "kernelspec": {
   "display_name": "Python 3 (ipykernel)",
   "language": "python",
   "name": "python3"
  },
  "language_info": {
   "codemirror_mode": {
    "name": "ipython",
    "version": 3
   },
   "file_extension": ".py",
   "mimetype": "text/x-python",
   "name": "python",
   "nbconvert_exporter": "python",
   "pygments_lexer": "ipython3",
   "version": "3.11.3"
  }
 },
 "nbformat": 4,
 "nbformat_minor": 5
}
