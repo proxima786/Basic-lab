{
 "cells": [
  {
   "cell_type": "code",
   "execution_count": 3,
   "id": "a9f4108e-4add-4200-ac46-35451f4d0a07",
   "metadata": {},
   "outputs": [],
   "source": [
    "import numpy as np\n",
    "import matplotlib.pyplot as plt\n",
    "import astropy\n",
    "from astropy.table import Table"
   ]
  },
  {
   "cell_type": "code",
   "execution_count": 4,
   "id": "8df2e8c2-0552-4fd9-8d97-4da41c1329bf",
   "metadata": {},
   "outputs": [],
   "source": [
    "nebular_file = results_nebular = Table.read('results_nebular_new_true.txt', format='ascii')\n"
   ]
  }
 ],
 "metadata": {
  "kernelspec": {
   "display_name": "Python 3 (ipykernel)",
   "language": "python",
   "name": "python3"
  },
  "language_info": {
   "codemirror_mode": {
    "name": "ipython",
    "version": 3
   },
   "file_extension": ".py",
   "mimetype": "text/x-python",
   "name": "python",
   "nbconvert_exporter": "python",
   "pygments_lexer": "ipython3",
   "version": "3.11.3"
  }
 },
 "nbformat": 4,
 "nbformat_minor": 5
}
