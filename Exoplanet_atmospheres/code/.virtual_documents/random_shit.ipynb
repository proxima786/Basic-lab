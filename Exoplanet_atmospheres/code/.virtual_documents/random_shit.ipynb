import numpy as np
import matplotlib.pyplot as plt
from astropy.constants import h, c, k_B

# 1. Load cross section data
wave_co2, abs_co2, sca_co2 = np.loadtxt('cross_sections_CO2.dat', unpack=True, usecols=(0,1,2))
wave_co, abs_co, sca_co = np.loadtxt('cross_sections_CO.dat', unpack=True, usecols=(0,1,2))
wave_ch4, abs_ch4, sca_ch4 = np.loadtxt('cross_sections_CH4.dat', unpack=True, usecols=(0,1,2))

# 2. Physical/model parameters
R_earth = 6.371e8        # cm
R_sun = 6.957e10         # cm
AU = 1.496e13            # cm
T_surf_1 = 1500  #k
T_surf_2 = 2000  # K

T_atmos_1 = 2000         # K
T_atmos_2 = 1500  # K

R_p = 1.0 * R_earth      # cm
R_star = 1.0 * R_sun     # cm
T_star = 5000            # K
a_1 = 0.01992 * AU       # cm
a_2 = 0.019*AU

P = 1e6                  # cgs units: dyne/cm2 (if originally in Pa, multiply by 10)
g = 980                  # cm/s2
A_g = 0.3

mu_ch4 = 16.04           # a.m.u
mu_co2 = 44.01           # a.m.u
mu_co = 28.01            # a.m.u
m_h = 1.67e-24           # g

# 3. Model wavelength grid in cm (matching your cross-section files)
lam_cm = np.linspace(0.4e-4, 3e-4, 500)  # 5 μm to 30 μm

# 4. Interpolate cross sections onto lam_cm grid
abs_co2_interp = np.interp(lam_cm, wave_co2, abs_co2)
abs_co_interp  = np.interp(lam_cm, wave_co, abs_co)
abs_ch4_interp = np.interp(lam_cm, wave_ch4, abs_ch4)

sca_co2_interp = np.interp(lam_cm, wave_co2, sca_co2)
sca_co_interp  = np.interp(lam_cm, wave_co, sca_co)
sca_ch4_interp = np.interp(lam_cm, wave_ch4, sca_ch4)

# 5. Compute kappa [cm^2/g] for each molecule (total, absorb+scatter)
def kappa(total_cross_section, mu):
    # total_cross_section: cm^2/molecule, mu: amu
    return total_cross_section / (mu * m_h)

kappa_co2 = kappa(abs_co2_interp + sca_co2_interp, mu_co2)
kappa_co  = kappa(abs_co_interp + sca_co_interp, mu_co)
kappa_ch4 = kappa(abs_ch4_interp + sca_ch4_interp, mu_ch4)

# 6. Optical depth in the atmosphere
tau_co2 = kappa_co2 * P / g
tau_co  = kappa_co  * P / g
tau_ch4 = kappa_ch4 * P / g

# 7. Planck function (cgs)
def planck(T, lam):
    num = 2*h.cgs.value*c.cgs.value**2 / lam**5
    denom = np.exp((h.cgs.value * c.cgs.value) / (lam * k_B.cgs.value * T)) - 1
    return num / denom  # erg/s/cm^2/cm/sr

# 8. Eclipse depth function
def second_eclipse_depth(lam, rad_pl, rad_st, tau, T_st, T_surf, T_atm, a_sem, g_albedo):
    prefactor = (rad_pl / rad_st) ** 2
    num = (planck(T_surf, lam) * np.exp(-tau) +
           (1 - np.exp(-tau)) * planck(T_atm, lam))
    denom = planck(T_st, lam)
    # reflected term omitted for pure thermal emission
    return prefactor * num / denom

# Example: For scenario 1 (T_surf < T_atm)
thermal_noatm = second_eclipse_depth(lam_cm, R_p, R_star, 0, T_star, T_surf_1, T_atmos_1, a_1, 0)
thermal_co_1 = second_eclipse_depth(lam_cm, R_p, R_star, tau_co, T_star, T_surf_1, T_atmos_1, a_1, 0)
thermal_co2_1 = second_eclipse_depth(lam_cm, R_p, R_star, tau_co2, T_star, T_surf_1, T_atmos_1, a_1, 0)
thermal_ch4_1 = second_eclipse_depth(lam_cm, R_p, R_star, tau_ch4, T_star, T_surf_1, T_atmos_1, a_1, 0)


thermal_co_2 = second_eclipse_depth(lam_cm, R_p, R_star, tau_co, T_star, T_surf_2, T_atmos_2, a_2, 0)
thermal_co2_2 = second_eclipse_depth(lam_cm, R_p, R_star, tau_co2, T_star, T_surf_2, T_atmos_2, a_2, 0)
thermal_ch4_2 = second_eclipse_depth(lam_cm, R_p, R_star, tau_ch4, T_star, T_surf_2, T_atmos_2, a_2, 0)
fig, axes = plt.subplots(1, 2, figsize=(14, 6), sharey=True)

# System 1 (left panel)
axes[0].plot(lam_cm*1e5, thermal_co_1, color='red', label='CO atmosphere')
axes[0].plot(lam_cm*1e5, thermal_ch4_1, color='black', label='CH$_4$ atmosphere')
axes[0].plot(lam_cm*1e5, thermal_co2_1, color='blue', label='CO$_2$ atmosphere')
axes[0].set_yscale('log')
axes[0].set_xlabel('Wavelength ($\mu$m)', fontsize=18)
axes[0].set_ylabel(r'$\frac{F_p}{F_*}$', fontsize=25)
axes[0].set_title('Thermal contrast, system 1', fontsize=20)
axes[0].legend(fontsize=16)
axes[0].tick_params(axis='both', which='major', labelsize=16)
axes[0].tick_params(axis='x', labelsize=20)
axes[0].tick_params(axis='y', labelsize=20)

axes[1].plot(lam_cm*1e5, thermal_co_2, color='red', label='CO atmosphere')
axes[1].plot(lam_cm*1e5, thermal_ch4_2, color='black', label='CH$_4$ atmosphere')
axes[1].plot(lam_cm*1e5, thermal_co2_2, color='blue', label='CO$_2$ atmosphere')
axes[1].set_yscale('log')
axes[1].set_xlabel('Wavelength ($\mu$m)', fontsize=18)
axes[1].set_title('Thermal contrast, system 2', fontsize=20)
axes[1].legend(fontsize=12)
axes[1].tick_params(axis='both', which='major', labelsize=16)
axes[0].tick_params(axis='x', labelsize=20)
axes[0].tick_params(axis='y', labelsize=20)
plt.tight_layout()
plt.savefig('thermal_contrast_systems_side_by_side.png', dpi=600, bbox_inches='tight')
plt.show()

