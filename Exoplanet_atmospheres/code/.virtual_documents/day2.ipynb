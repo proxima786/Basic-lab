import numpy as np
import astropy.units as u
from astropy.constants import h, c, k_B
import matplotlib.pyplot as plt





R_earth = 6.371e6      # meters
R_sun = 6.957e8        # meters
AU = 1.496e11          # meters
T_surf_1 = 1500  # K
T_surf_2 = 2000  # K
T_atmos_1 = 2000  # K
T_atmos_2 = 1500  # K
R_p = 1.0* R_earth # earth rad
R_star = 1.0*R_sun  # solar rad
T_star = 5000  # K
a_1 = 0.01992*AU
a_2 = 0.019*AU



P = 1e5 
g = 9.8 
lam_val = np.linspace(1e-6, 30e-6, 100)


def planck(T, lam):
    """Calculate Planck spectral radiance"""
    # Convert inputs to astropy quantities if they aren't already
    if not hasattr(T, 'unit'):
        T = T * u.K
    if not hasattr(lam, 'unit'):
        lam = lam * u.m
    
    num = 2 * h * c**2 / lam**5
    denom = np.exp((h*c/(lam*k_B*T)).to(u.dimensionless_unscaled)) - 1
    return num / denom


print(h) 
print(c)
print(k_B)
print(AU)


# Convert opacity to correct units for dimensionless optical depth
# K is in cm²/g, convert to m²/kg: 1 cm²/g = 0.1 m²/kg




def second_eclipse_depth(lam, rad_pl, rad_st, tau, T_st, T_surf, T_atm, a_sem, g_albedo):
    prefactor = (rad_pl/rad_st)**2
    
    # Use tau.value to get dimensionless values for np.exp
    tau_val = tau.value if hasattr(tau, 'value') else tau
    
    num = (planck(T_surf, lam) * np.exp(-tau_val) + 
           (1 - np.exp(-tau_val)) * planck(T_atm, lam))
    denom =  planck(T_st, lam)
    sca_term = (rad_pl/a_sem)**2 * g_albedo
    
    return prefactor * num / denom + sca_term



result_1 = second_eclipse_depth(lam_val, R_p, R_star, 0, T_star, T_surf_1, T_atmos_1, a_1, 0)
result_2 = second_eclipse_depth(lam_val, R_p, R_star, 0, T_star, T_surf_2, T_atmos_2, a_2, 0)


plt.figure(figsize=(8,5))
plt.plot(lam_val*1e6, result_1, c= 'k' , label='system 1')
plt.plot(lam_val*1e6, result_2, c='r', label = 'system 2')
plt.yscale('log')
plt.xlim(0,14)
plt.ylim(1e-7 , 1e-4)
plt.xlabel("wavelength ($\mu$m)" , size = 16)
plt.ylabel("F$_p$/F$_\star$" , size =16)
plt.title("Thermal contrast (Barerock, no atmosphere)", size = 18)
plt.legend()
plt.minorticks_on()
plt.savefig("barerock.png")
plt.show()


geom_albedo = [0.0,0.3,0.7,1.0]
color = ['k', 'b', 'g', 'r']
plt.figure(figsize=(8,5))

for a_g, co in zip(geom_albedo,color):
    sys_1 = second_eclipse_depth(lam_val, R_p, R_star, 0, T_star, T_surf_1, T_atmos_1, a_1, a_g)
    plt.plot(lam_val*1e6 , sys_1 , c= co, label=f'$A_g$={a_g}')
    
plt.xlabel('Wavelength (μm)', fontsize=16)
plt.ylabel("F$_p$/F$_\star$(ppm)" , size = 16)

plt.title('Barerock System 1: Thermal + Reflected Contrast', fontsize=18)
plt.legend()
plt.tight_layout()
plt.minorticks_on()
plt.show()





wave_co2, abs_co2 , sca_co2 = np.loadtxt('cross_sections_CO2.dat', unpack=True , usecols= (0,1,2))
wave_co, abs_co , sca_co = np.loadtxt('cross_sections_CO.dat', unpack=True , usecols= (0,1,2))
wave_ch4, abs_ch4 , sca_ch4 = np.loadtxt('cross_sections_CH4.dat', unpack=True , usecols= (0,1,2))


plt.figure()
plt.plot(wave_co2*1e4 , abs_co2 , c='b' , label = 'CO$_2$')
plt.plot(wave_co*1e4 , abs_co , c= 'k' , label = 'CH$_4$')
plt.plot(wave_ch4*1e4 , abs_ch4 , c='r' , label = 'CO')
plt.title('$\sigma_{abs}$ of CO$_2$, CH$_4$ and CO' , size =20)
plt.xlabel('wavelength ($\mu$m)' , size = 16)
plt.ylabel('$\sigma_{abs}$' , size =18)
plt.yscale('log')
plt.legend(fontsize = 16)
plt.minorticks_on()
plt.xticks(fontsize=18)
plt.yticks(fontsize=18)
plt.tight_layout()
plt.savefig('abs_cross.png' , dpi = 300)
plt.figure()
plt.plot(wave_co2*1e4 , sca_co2 , c='b' , label = 'CO$_2$')
plt.plot(wave_co*1e4 , sca_co , c= 'k' , label = 'CH$_4$')
plt.plot(wave_ch4*1e4 , sca_ch4 , c='r' , label = 'CO')
plt.title('$\sigma_{sca}$ of CO$_2$, CH$_4$ and CO', size =20)
plt.xlabel('wavelength ($\mu$m)' , size = 16)
plt.ylabel('$\sigma_{sca}$' , size =18)
plt.minorticks_on()
plt.yscale('log')
plt.legend(fontsize = 16)
plt.xticks(fontsize=18)
plt.yticks(fontsize=18)
plt.tight_layout()
plt.savefig('sca_cross.png' , dpi = 300)
